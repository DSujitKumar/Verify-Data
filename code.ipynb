{
 "cells": [
  {
   "cell_type": "code",
   "execution_count": 4,
   "metadata": {},
   "outputs": [],
   "source": [
    "import openpyxl\n",
    "from openpyxl.styles import Font\n",
    "wb1=openpyxl.load_workbook('sheet1.xlsx') #loading worksheet file 1\n",
    "wb2=openpyxl.load_workbook('sheet2.xlsx') #loading worksheet file 2\n",
    "sheet1=wb1['Sheet1'] #assigning worksheet 1\n",
    "sheet2=wb2['Sheet1']#assigning worksheet 2\n",
    "i=1\n",
    "while(sheet1.cell(row=i,column=2).value):\n",
    "    val1=sheet1.cell(row=i,column=2).value\n",
    "    j=1\n",
    "    while(sheet2.cell(row=j,column=2).value):\n",
    "        if(val1==sheet2.cell(row=j,column=2).value):\n",
    "            (sheet2.cell(row=j,column=2)).font=Font(color='cc1a1a') # if value present colour it in red color\n",
    "        j=j+1\n",
    "    i=i+1\n",
    "wb2.save('examp.xlsx') #save worksheet into another file"
   ]
  }
 ],
 "metadata": {
  "kernelspec": {
   "display_name": "Python 3",
   "language": "python",
   "name": "python3"
  },
  "language_info": {
   "codemirror_mode": {
    "name": "ipython",
    "version": 3
   },
   "file_extension": ".py",
   "mimetype": "text/x-python",
   "name": "python",
   "nbconvert_exporter": "python",
   "pygments_lexer": "ipython3",
   "version": "3.6.4"
  }
 },
 "nbformat": 4,
 "nbformat_minor": 2
}
